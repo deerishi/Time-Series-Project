{
 "cells": [
  {
   "cell_type": "code",
   "execution_count": 4,
   "metadata": {
    "collapsed": false
   },
   "outputs": [
    {
     "data": {
      "text/plain": [
       "array(['datetime', 'season', 'holiday', 'workingday', 'weather', 'temp',\n",
       "       'atemp', 'humidity', 'windspeed'], dtype=object)"
      ]
     },
     "execution_count": 4,
     "metadata": {},
     "output_type": "execute_result"
    }
   ],
   "source": [
    "import numpy as np\n",
    "import pandas as pd\n",
    "from copy import copy\n",
    "from sklearn.ensemble import RandomForestRegressor\n",
    "import csv\n",
    "\n",
    "dateparse=lambda x:pd.datetime.strptime(x,'%Y-%m-%d %H:%M:%S')\n",
    "train=pd.read_csv('train.csv',parse_dates=['datetime'],date_parser=dateparse)\n",
    "test=pd.read_csv('test.csv',parse_dates=['datetime'],date_parser=dateparse)\n",
    "\n",
    "test.columns.values"
   ]
  },
  {
   "cell_type": "code",
   "execution_count": 2,
   "metadata": {
    "collapsed": false
   },
   "outputs": [
    {
     "name": "stdout",
     "output_type": "stream",
     "text": [
      "train is \n",
      "(10886, 9)\n",
      "labels train are \n",
      "(10886,)\n",
      "test is \n",
      "(6493, 9)\n",
      "trainSplit is \n",
      "(8708, 9)  and testSplit is \n",
      "(2178, 9)\n",
      "ypred is \n",
      "[  14.     27.3    54.85 ...,  129.3   107.4    65.7 ]\n",
      "test split is \n",
      "[ 19  19  68 ..., 168 129  88]\n",
      "the loss is  0.475547462347\n"
     ]
    },
    {
     "name": "stderr",
     "output_type": "stream",
     "text": [
      "/usr/local/lib/python2.7/dist-packages/ipykernel/__main__.py:67: DeprecationWarning: using a non-integer number instead of an integer will result in an error in the future\n",
      "/usr/local/lib/python2.7/dist-packages/ipykernel/__main__.py:69: DeprecationWarning: using a non-integer number instead of an integer will result in an error in the future\n",
      "/usr/local/lib/python2.7/dist-packages/ipykernel/__main__.py:70: DeprecationWarning: using a non-integer number instead of an integer will result in an error in the future\n",
      "/usr/local/lib/python2.7/dist-packages/ipykernel/__main__.py:71: DeprecationWarning: using a non-integer number instead of an integer will result in an error in the future\n"
     ]
    },
    {
     "data": {
      "text/plain": [
       "RandomForestRegressor(bootstrap=True, criterion='mse', max_depth=None,\n",
       "           max_features='auto', max_leaf_nodes=None, min_samples_leaf=1,\n",
       "           min_samples_split=2, min_weight_fraction_leaf=0.0,\n",
       "           n_estimators=10, n_jobs=1, oob_score=False, random_state=None,\n",
       "           verbose=0, warm_start=False)"
      ]
     },
     "execution_count": 2,
     "metadata": {},
     "output_type": "execute_result"
    }
   ],
   "source": [
    "def extractFeaturesTrain(data):\n",
    "    \n",
    "    data['Hour']=data.datetime.dt.hour\n",
    "    labels=data['count']\n",
    "    train_years=data.datetime.dt.year\n",
    "    train_months=data.datetime.dt.month\n",
    "    data=data.drop(['datetime','count','casual','registered'], axis = 1)\n",
    "    return np.array(data),np.array(labels),np.array(train_years),np.array(train_months)\n",
    "\n",
    "def extractFeaturesTest(data):\n",
    "    \n",
    "    data['Hour']=data.datetime.dt.hour\n",
    "    test_years=data.datetime.dt.year\n",
    "    test_months=data.datetime.dt.month\n",
    "    data=data.drop(['datetime'], axis = 1)\n",
    "    return np.array(data),np.array(test_years),np.array(test_months)\n",
    "    \n",
    "train2=copy(train)\n",
    "test2=copy(test)\n",
    "test=np.array(test)\n",
    "traind,labelsTrain,train_years,train_months=extractFeaturesTrain(train2)\n",
    "testd,test_years,test_months=extractFeaturesTest(test2)\n",
    "\n",
    "submit=np.array((test.shape[0],2))\n",
    "\n",
    "#train.to_csv('Remodeled Train.csv')\n",
    "train=np.array(train)\n",
    "print 'train is \\n',traind.shape\n",
    "print 'labels train are \\n',labelsTrain.shape\n",
    "print 'test is \\n',testd.shape\n",
    "\n",
    "def findLocations(year,month):\n",
    "    locs=[]\n",
    "    for i in range(0,test.shape[0]):\n",
    "        if(test[i][0].year==year and test[i][0].month==month):\n",
    "            locs.append(i)\n",
    "        \n",
    "    return locs\n",
    "        \n",
    "def findValidDates(year,month):\n",
    "    locs=[]\n",
    "    for i in range(0,train.shape[0]):\n",
    "        if(train[i][0].year<=year and train[i][0].month<=month):\n",
    "            locs.append(i)\n",
    "    \n",
    "    return locs\n",
    "            \n",
    "'''for i in set(test_years):\n",
    "    for j in set(test_months):\n",
    "        print 'Year : ',i,' month ',j:\n",
    "            testLocs=findLocations(i,j)\n",
    "            testSubset=testd[testLocs]\n",
    "            \n",
    "            trainLocs=findValidDates(i,j)\n",
    "            trainSubset=traind[trainLocs]'''\n",
    "            \n",
    "def findLoss(gold,predicted):\n",
    "    loss=0\n",
    "    for i in range(gold.shape[0]):\n",
    "        loss+=(np.log(predicted[i]+1) -np.log(gold[i]+1))**2\n",
    "    \n",
    "    loss=loss/gold.shape[0]\n",
    "    return np.sqrt(loss)\n",
    "\n",
    "rf=RandomForestRegressor()\n",
    "split1=0.8*traind.shape[0]\n",
    "trainSplit=traind[:split1,:]\n",
    "\n",
    "testSplit=traind[split1:,:]\n",
    "labelsSplitTrain=labelsTrain[:split1]\n",
    "labelsSplitTest=labelsTrain[split1:]\n",
    "rf.fit(trainSplit,labelsSplitTrain)\n",
    "ypred=rf.predict(testSplit)\n",
    "print 'trainSplit is \\n',trainSplit.shape,' and testSplit is \\n',testSplit.shape\n",
    "print 'ypred is \\n',ypred\n",
    "print 'test split is \\n',labelsSplitTest\n",
    "print 'the loss is ',findLoss(labelsSplitTest,ypred)\n",
    "\n",
    "rf.fit(traind,labelsTrain)"
   ]
  }
 ],
 "metadata": {
  "kernelspec": {
   "display_name": "Python 2",
   "language": "python",
   "name": "python2"
  },
  "language_info": {
   "codemirror_mode": {
    "name": "ipython",
    "version": 2
   },
   "file_extension": ".py",
   "mimetype": "text/x-python",
   "name": "python",
   "nbconvert_exporter": "python",
   "pygments_lexer": "ipython2",
   "version": "2.7.6"
  }
 },
 "nbformat": 4,
 "nbformat_minor": 0
}
