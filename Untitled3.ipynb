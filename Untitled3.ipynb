{
 "cells": [
  {
   "cell_type": "code",
   "execution_count": 3,
   "metadata": {
    "collapsed": false
   },
   "outputs": [
    {
     "data": {
      "text/plain": [
       "array([[ 1.,  1.,  1., ...,  1.,  1.,  1.],\n",
       "       [ 1.,  1.,  1., ...,  1.,  1.,  1.],\n",
       "       [ 1.,  1.,  1., ...,  1.,  1.,  1.],\n",
       "       ..., \n",
       "       [ 1.,  1.,  1., ...,  1.,  1.,  1.],\n",
       "       [ 1.,  1.,  1., ...,  1.,  1.,  1.],\n",
       "       [ 1.,  1.,  1., ...,  1.,  1.,  1.]])"
      ]
     },
     "execution_count": 3,
     "metadata": {},
     "output_type": "execute_result"
    }
   ],
   "source": [
    "import numpy as np\n",
    "\n",
    "a=np.ones((300,300))\n",
    "a\n"
   ]
  },
  {
   "cell_type": "code",
   "execution_count": 4,
   "metadata": {
    "collapsed": true
   },
   "outputs": [],
   "source": [
    "for i in range(300):\n",
    "    for j in range(300):\n",
    "        a[i,j]=i*300+j\n",
    "        \n",
    "        "
   ]
  },
  {
   "cell_type": "code",
   "execution_count": 5,
   "metadata": {
    "collapsed": false
   },
   "outputs": [
    {
     "data": {
      "text/plain": [
       "array([[  0.00000000e+00,   1.00000000e+00,   2.00000000e+00, ...,\n",
       "          2.97000000e+02,   2.98000000e+02,   2.99000000e+02],\n",
       "       [  3.00000000e+02,   3.01000000e+02,   3.02000000e+02, ...,\n",
       "          5.97000000e+02,   5.98000000e+02,   5.99000000e+02],\n",
       "       [  6.00000000e+02,   6.01000000e+02,   6.02000000e+02, ...,\n",
       "          8.97000000e+02,   8.98000000e+02,   8.99000000e+02],\n",
       "       ..., \n",
       "       [  8.91000000e+04,   8.91010000e+04,   8.91020000e+04, ...,\n",
       "          8.93970000e+04,   8.93980000e+04,   8.93990000e+04],\n",
       "       [  8.94000000e+04,   8.94010000e+04,   8.94020000e+04, ...,\n",
       "          8.96970000e+04,   8.96980000e+04,   8.96990000e+04],\n",
       "       [  8.97000000e+04,   8.97010000e+04,   8.97020000e+04, ...,\n",
       "          8.99970000e+04,   8.99980000e+04,   8.99990000e+04]])"
      ]
     },
     "execution_count": 5,
     "metadata": {},
     "output_type": "execute_result"
    }
   ],
   "source": [
    "a"
   ]
  },
  {
   "cell_type": "code",
   "execution_count": 8,
   "metadata": {
    "collapsed": false
   },
   "outputs": [
    {
     "data": {
      "text/plain": [
       "array([[ 1.        ,  0.84271528,  0.4203381 , ...,  0.69332249,\n",
       "         0.97223009,  0.94530383],\n",
       "       [ 0.62101387,  0.10137193, -0.45015852, ...,  0.99539037,\n",
       "         0.78719865,  0.33137829],\n",
       "       [-0.22868355, -0.71680854, -0.97944746, ...,  0.54297996,\n",
       "         0.00549246, -0.5337228 ],\n",
       "       ..., \n",
       "       [-0.8820648 , -0.48969321,  0.05672091, ..., -0.95106321,\n",
       "        -0.96782665, -0.68014141],\n",
       "       [-0.17850447,  0.37928451,  0.81776219, ..., -0.83281469,\n",
       "        -0.40381575,  0.15221128],\n",
       "       [ 0.6603573 ,  0.96077509,  0.95896241, ..., -0.08331574,\n",
       "         0.46627629,  0.86919204]])"
      ]
     },
     "execution_count": 8,
     "metadata": {},
     "output_type": "execute_result"
    }
   ],
   "source": [
    "a=a*(np.pi*0.24)\n",
    "a=np.cos(a)"
   ]
  },
  {
   "cell_type": "code",
   "execution_count": 11,
   "metadata": {
    "collapsed": false
   },
   "outputs": [],
   "source": [
    "cov1=np.cov(a)"
   ]
  },
  {
   "cell_type": "code",
   "execution_count": 13,
   "metadata": {
    "collapsed": false
   },
   "outputs": [
    {
     "data": {
      "text/plain": [
       "-0.0"
      ]
     },
     "execution_count": 13,
     "metadata": {},
     "output_type": "execute_result"
    }
   ],
   "source": [
    "np.linalg.det(cov1)"
   ]
  }
 ],
 "metadata": {
  "kernelspec": {
   "display_name": "Python 2",
   "language": "python",
   "name": "python2"
  },
  "language_info": {
   "codemirror_mode": {
    "name": "ipython",
    "version": 2
   },
   "file_extension": ".py",
   "mimetype": "text/x-python",
   "name": "python",
   "nbconvert_exporter": "python",
   "pygments_lexer": "ipython2",
   "version": "2.7.6"
  }
 },
 "nbformat": 4,
 "nbformat_minor": 0
}
